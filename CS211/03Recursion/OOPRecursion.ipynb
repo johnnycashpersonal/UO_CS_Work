{
 "cells": [
  {
   "cell_type": "markdown",
   "metadata": {},
   "source": [
    "# Recursion\n",
    "\n",
    "Recall - A recursive function is divided into oneor  more base cases and one or more recursive or inductive cases. Together, these have a very standard structure. In pseudocode, it looks like:"
   ]
  },
  {
   "cell_type": "code",
   "execution_count": null,
   "metadata": {},
   "outputs": [],
   "source": [
    "def recursive_function(value):\n",
    "    \"\"\"Always check base cases first\"\"\"\n",
    "    if base case applies:\n",
    "        do the base case and return\n",
    "    elif another base case applies:\n",
    "        do the base case and return\n",
    "    else:\n",
    "        \"\"\"Recursive case(s) follow\"\"\"\n",
    "        break value into pieces p1, p2, ...\n",
    "        result1 = recursive_function(p1)\n",
    "        result2 = recursive_function(p2)\n",
    "        ...\n",
    "        return combine(result1, result2, ...)"
   ]
  },
  {
   "cell_type": "markdown",
   "metadata": {},
   "source": [
    "For example, the classic recursive factorial function can be written as a method in a class:"
   ]
  },
  {
   "cell_type": "code",
   "execution_count": 1,
   "metadata": {},
   "outputs": [],
   "source": [
    "def classic_factorial(value:int) -> int:\n",
    "    \"\"\"We always check base cases first\"\"\"\n",
    "    if value < 2:\n",
    "        return 1\n",
    "    else:\n",
    "        \"\"\"Recursive cases follow\"\"\"\n",
    "        p1 = value - 1\n",
    "        r1 = classic_factorial(p1)\n",
    "        return value * r1"
   ]
  },
  {
   "cell_type": "markdown",
   "metadata": {},
   "source": [
    "Which could typically simplify to:"
   ]
  },
  {
   "cell_type": "code",
   "execution_count": 2,
   "metadata": {},
   "outputs": [],
   "source": [
    "def fact(value:int) -> int:\n",
    "    if value < 2:\n",
    "        return 1\n",
    "    return value * fact(value - 1)"
   ]
  },
  {
   "cell_type": "markdown",
   "metadata": {},
   "source": [
    "we can see the same basic structure in a binary search. Suppose we have a sorted table of (key, value) pairs that looks like this:"
   ]
  },
  {
   "cell_type": "code",
   "execution_count": 14,
   "metadata": {},
   "outputs": [],
   "source": [
    "table = [(1, \"alpha\"), (3, \"beta\"), (4, \"gamma\"), (9, \"delta\"), (12, \"epsilon\")]"
   ]
  },
  {
   "cell_type": "markdown",
   "metadata": {},
   "source": [
    "The table is sorted by key. We can search it like this:"
   ]
  },
  {
   "cell_type": "code",
   "execution_count": 15,
   "metadata": {},
   "outputs": [],
   "source": [
    "def bin_search(key: int, table: list[tuple[int, str]]) -> [str]:\n",
    "    return bin_search_range(key, table, 0, len(table) - 1)\n",
    "\n",
    "def bin_search_range(key: int, table: list[tuple[int, str]], low: int, high: int) -> [str]:\n",
    "    \"\"\"Recursive binary search in range low..high inclusive.\"\"\"\n",
    "\n",
    "    \"\"\"Base case 1: key not in table\"\"\"\n",
    "    if low > high:\n",
    "        return \"No such value\"\n",
    "    \n",
    "    mid = (high + low) // 2\n",
    "    entry_key, entry_value = table[mid]\n",
    "\n",
    "    \"\"\"base case 2: Key found at midpoint in table\"\"\"\n",
    "    if entry_key == key:\n",
    "        return entry_value\n",
    "    \n",
    "    if key < entry_key:\n",
    "        \"\"\"Revursive case 1: Key must be before midpoint, or absent\"\"\"\n",
    "        return bin_search_range(key, table, low, mid - 1)\n",
    "    \n",
    "    else:\n",
    "        \"\"\"Recursive case 2: Key must be after midpoint, or absent\"\"\"\n",
    "        return bin_search_range(key, table, mid + 1, high)"
   ]
  },
  {
   "cell_type": "markdown",
   "metadata": {},
   "source": [
    "# Recursive Data Structures:\n",
    "\n",
    "A data structure can also have a recursive structure: Tuples can contain tuples, lists can contain lists, and so on. Instead of a simple list, we can make the table have four elements:\n",
    "\n",
    "[key], [value], [smaller_key], [larger_keys]\n",
    "\n",
    "where smaller keys and larger keys are themselves tables with the same form, lists within lists,s o that we get a tree-like structure. This is called a binary search tree, because each node has two branches, one for smaller keys and one for larger keys.\n",
    "\n",
    "In python, this table could be represented as:"
   ]
  },
  {
   "cell_type": "code",
   "execution_count": 16,
   "metadata": {},
   "outputs": [],
   "source": [
    "alpha_tree: [4, \"gamma\",\n",
    "             [3, \"beta\",\n",
    "              [1, \"alpha\", [],[]],\n",
    "              []],\n",
    "            [12, \"epsilon\",\n",
    "             [9, \"delta\", [], []],\n",
    "             [15, \"zeta\", [], []]]\n",
    "           ]"
   ]
  },
  {
   "attachments": {
    "image.png": {
     "image/png": "[encoded data removed]"
    }
   },
   "cell_type": "markdown",
   "metadata": {},
   "source": [
    "typically,wev  isualize this structure not by drawing list cells within list cells,b ut by drawing \"nested in\" relation as lines. We call such a structure a tree, with the root of the tree at the top. \n",
    "\n",
    "- Each entry of the tree is called a node. \n",
    "- The top node is called the root.\n",
    "- The nodes at the bottom of the tree are called leaves.\n",
    "- The nodes in between are called internal nodes, and each of those + all the leaf nodes have a parent node.\n",
    "\n",
    "Here, key 4 is at the root, Keys 1, 9, and 15 are in leaves,and  4, 3, and 12 are internal nodes. \n",
    "\n",
    "![image.png](attachment:image.png)\n",
    "\n",
    "we can now rewrite our binary search as a search in the nested list structure, or tree:"
   ]
  },
  {
   "cell_type": "code",
   "execution_count": 17,
   "metadata": {},
   "outputs": [],
   "source": [
    "def nested_list_search(key: int, table: list) -> str:\n",
    "    \"\"\"Table is [key, value, smaller keys, larger keys]\"\"\"\n",
    "    log.debug(f\"search for {key} in {table}\")\n",
    "    \"\"\"Base case one: there are no keys\"\"\"\n",
    "    if table == []:\n",
    "        return \"no such value\"\n",
    "    \n",
    "    entry_key, entry_value, smaller, larger = table\n",
    "    \"\"\"Base case two: key is found\"\"\"\n",
    "    if key == entry_key:\n",
    "        return entry_value\n",
    "    \n",
    "    if key < entry_key:\n",
    "        \"\"\"Recursive case one: Must be in the smaller keys\"\"\"\n",
    "        return nested_list_search(key, smaller)\n",
    "    else:\n",
    "        \"\"\"Recursive case 2: must be  in the larger keys\"\"\"\n",
    "        return nested_list_search(key, larger)"
   ]
  },
  {
   "cell_type": "markdown",
   "metadata": {},
   "source": [
    "notice - this is almost the same logica s our binary search in a list. The differences are now the data is shaped like an algorithm. When we searched a sorted list, we divided the list into a middle element, a sublist of smaller elements, and a sublist of larger elements. The nested list has already been divided up into a middle element (Which appears in the first key and value), a sublist of smaller elements, and a sublist of larger elements. Instead of calculating a midpoint, our `nested_search_list` just follows the data structure."
   ]
  },
  {
   "cell_type": "markdown",
   "metadata": {},
   "source": [
    "# Hierarchical Structures as Classes"
   ]
  },
  {
   "cell_type": "markdown",
   "metadata": {},
   "source": [
    "We can implement the same logical structure using classes and objects! Note that when we represented the tree using nested lists, we used empty lists to to represent emptyse ts of entries with larger or smaller keys. Using classes, we can instead create a distinct subclass for an empty table.\n",
    "\n",
    "We'll create an abstract base class for the tree structure, with a concrete subclass for a non-empty node, and a concrete subclass for an empty node."
   ]
  },
  {
   "cell_type": "code",
   "execution_count": 18,
   "metadata": {},
   "outputs": [],
   "source": [
    "class GreekSearchTree:\n",
    "    \"\"\"An abstract base class for the table of Greek Letters\"\"\"\n",
    "    def __init__(self):\n",
    "        raise NotImplementedError(\"Nope, can't do that.\")\n",
    "\n",
    "class Node(GreekSearchTree):\n",
    "    def __init__(self, key: int, value: str, smaller: GreekSearchTree, larger: GreekSearchTree):\n",
    "        self.key = key\n",
    "        self.value = value\n",
    "        self.smaller = smaller  \n",
    "        self.larger = larger \n",
    "\n",
    "class Empty(GreekSearchTree):\n",
    "    def __init__(self):\n",
    "        pass"
   ]
  },
  {
   "cell_type": "markdown",
   "metadata": {},
   "source": [
    "with this, we can build up the tree structure:"
   ]
  },
  {
   "cell_type": "code",
   "execution_count": 19,
   "metadata": {},
   "outputs": [],
   "source": [
    "# the leaves\n",
    "empty = Empty() # the empty tree - we only need one of these.\n",
    "alpha = Node(1, \"alpha\", empty, empty)\n",
    "delta = Node(9, \"delta\", empty, empty)\n",
    "zeta = Node(15, \"zeta\", empty, empty)\n",
    "\n",
    "#the internal nodes\n",
    "beta = Node(3, \"beta\", alpha, empty)\n",
    "epsilon = Node(12, \"epsilon\", delta, zeta)\n",
    "gamma = Node(4, \"gamma\", beta, epsilon)\n",
    "\n",
    "# the root (4, gamma)\n",
    "tree = gamma"
   ]
  },
  {
   "cell_type": "markdown",
   "metadata": {},
   "source": [
    "let's implement a search method - in the abstract base class, we will give a method definition with the header for the search method."
   ]
  },
  {
   "cell_type": "code",
   "execution_count": 20,
   "metadata": {},
   "outputs": [],
   "source": [
    "class GreekSearchTree:\n",
    "    \"\"\"an abstract base class for the table of Greek Letters\"\"\"\n",
    "\n",
    "    def __init__(self):\n",
    "        raise NotImplementedError(\"Nope, can't do that.\")\n",
    "    \n",
    "    def search(self, key: int) -> str:\n",
    "        \"\"\"Return associated string or 'No such Value'\"\"\"\n",
    "        raise NotImplementedError(\"Concrete classes must override the search method\")"
   ]
  },
  {
   "cell_type": "markdown",
   "metadata": {},
   "source": [
    "we will override that search method for the non-empty node class:"
   ]
  },
  {
   "cell_type": "code",
   "execution_count": 21,
   "metadata": {},
   "outputs": [],
   "source": [
    "class Node(GreekSearchTree):\n",
    "    def __init__(self, key: int, value: str, smaller: GreekSearchTree, larger: GreekSearchTree):\n",
    "        self.key = key\n",
    "        self.value = value\n",
    "        self.smaller = smaller\n",
    "        self.larger = larger\n",
    "\n",
    "    def search(self, key) -> str:\n",
    "        if self.key == key:\n",
    "            return self.value\n",
    "        if key < self.key:\n",
    "            return self.smaller.search(key)\n",
    "        else:\n",
    "            return self.larger.search(key)"
   ]
  },
  {
   "cell_type": "markdown",
   "metadata": {},
   "source": [
    "in this `search` method, we see one of the base cases (where the key is found) and the recursive cases for searching in the subtree of smaller keys or thesu btree of larger keys. But where is the other base case?\n",
    "\n",
    "The other case is not in this class at all, but is rather in the `search` method of the other concrete class:"
   ]
  },
  {
   "cell_type": "code",
   "execution_count": 22,
   "metadata": {},
   "outputs": [],
   "source": [
    "class Empty(GreekSearchTree):\n",
    "    def __init__(self):\n",
    "        pass\n",
    "\n",
    "    def search(self, key) -> str:\n",
    "        return \"No such value\""
   ]
  },
  {
   "cell_type": "markdown",
   "metadata": {},
   "source": [
    "Here, we see the one big difference between recursive functions and recursion in methods in a recusrsive structure of objects.\n",
    "\n",
    "In the function, we always used some kind of decision( usually an `if` statement) to distinguish the base cases and the recursive cases. \n",
    "\n",
    "Typically, the cases are distributed among different subclasses, and part or all of the choice of which cases to execute are controlled by which kind of object the method is called in."
   ]
  },
  {
   "attachments": {
    "image.png": {
     "image/png": "[encoded data removed]"
    }
   },
   "cell_type": "markdown",
   "metadata": {},
   "source": [
    "Let's consider an example search for key 10.\n",
    "initially, we call the 'search' method on the root object, with key 4. \n",
    "\n",
    "![image.png](attachment:image.png)"
   ]
  },
  {
   "attachments": {
    "image-2.png": {
     "image/png": "[encoded data removed]"
    },
    "image-3.png": {
     "image/png": "[encoded data removed]"
    },
    "image.png": {
     "image/png": "[encoded data removed]"
    }
   },
   "cell_type": "markdown",
   "metadata": {},
   "source": [
    "the key 10 is greaterthan the key inth at node, so the recursive part of the `search` method is invoked on `self.larger`, which is the subtree with key 12 at its root.\n",
    "\n",
    "![image.png](attachment:image.png)\n",
    "\n",
    "Now key 10 is smaller than the key in the node, so it makes a recursive call to `self.smaller.search(key)`.\n",
    "\n",
    "![image-2.png](attachment:image-2.png)\n",
    "\n",
    "Now key 10 is larger than the key in the node, so once again it makes a recursive call on `self.larger.search(key)`.\n",
    "\n",
    "![image-3.png](attachment:image-3.png)\n",
    "\n",
    "This time, we get the method `search` with class `Empty`. We don't have to usean `if` statement to determine that this is a base case. We know it is a base case because that is the only case that this `Empty` node could be asked to handle!"
   ]
  },
  {
   "cell_type": "markdown",
   "metadata": {},
   "source": [
    "# other recursive structures and methods\n",
    "\n",
    "*search trees*,like the table illustrated above,are one important group of tree structures in software, but not the only one. Often, trees represent hierarchical \"part-of\" structures.  (country comprised of states or provinces, states made up of counties, counties further divided into precincts), graphics (a scene made up of shapes, with composite shapes and made up of simpler shapes, and simple line segments, points, and polygons as leaf nodes), documents (a book made up of chapters, chapters made up of sections, sections made up of paragraphs, paragraphs made up of lines) and so on. There is hardly an application domain in which tree structures do not find some use in software.\n",
    "\n",
    "Wherever we find trees, we are likely to find some methods that *walk* or *traverse* the trees recursively. Sometimes these are some form of search, but not always. Many of the functions we might write for a list are also needed for trees. With a list, we might have a choice between recursion and a simple loop.\n",
    "\n",
    "For example, the recursive binary search of a list could also be written without recursion, using a loop.\n",
    "\n",
    "The loop version of a binary search is hardly more complex than the recursive version, and apt to execute a little faster. With tree structures, on the other hand, recursion is usually the better choice.\n",
    "\n",
    "One widely used tree structure you may have already seen is the DOM of HTML. This is the datas tructure that a web browser constructs of constructs from the html source code of a web page, and it is the structure that style sheets and scripts consume and manipulate to support all interactive effects of modern web apps."
   ]
  },
  {
   "cell_type": "markdown",
   "metadata": {},
   "source": [
    "Consider a very simplified version of the DOM structure. Each \"...\" segment would be represented by a node in the tree. Content that is plain text, with no tags, might be leaf nodes. We would begin with an abstract base class for DOM tree nodes:"
   ]
  },
  {
   "cell_type": "code",
   "execution_count": 23,
   "metadata": {},
   "outputs": [],
   "source": [
    "class DOMNode:\n",
    "    \"\"\"Abstract base class, defines the interface that concrete DOM node classes must conform to.\"\"\"\n",
    "    def __init__(self):\n",
    "        raise NotImplementedError(\"Abstract constructor of DOMNode\")"
   ]
  },
  {
   "cell_type": "markdown",
   "metadata": {},
   "source": [
    "We might define several other methods that all DOM nodes should implement, but for the example we'll consider only the simple magic methods like `__str__`, which we've inherited already from class `object`.\n",
    "\n",
    "The internal nodes of the DOM have tags (like `h1`, `h2` etc. for \"header\" elements and `p` for paragraphs). These tagged sections may be nested. This is represented by giving each node a list of children. (Contrast this to our search tree, in which each internal node had exactly two children.)"
   ]
  },
  {
   "cell_type": "code",
   "execution_count": 24,
   "metadata": {},
   "outputs": [],
   "source": [
    "class Tagged(DOMNode):\n",
    "    def __init__(self, tag: str, children: list[DOMNode] = []):\n",
    "        self.tag = tag\n",
    "        self.children = children\n",
    "\n",
    "    def append(self, node:DOMNode):\n",
    "        self.children.append(node)"
   ]
  },
  {
   "cell_type": "markdown",
   "metadata": {},
   "source": [
    "How shall we define the __str__ method for a tagged node? Let’s make it look like html, in which begin-tags like <//p> are paired with end-tags like <//p>. Ignore two slashes on first p and one on second. - John note-  just for markdown formatting."
   ]
  },
  {
   "cell_type": "code",
   "execution_count": 25,
   "metadata": {},
   "outputs": [],
   "source": [
    "def __ste__(self) -> str:\n",
    "    \"\"\"Text form is like HTML source code\"\"\"\n",
    "    parts = [str(part) for part in self.children]\n",
    "    return f\"<{self.tag}> {''.join(parts)} </{self.tag}>\\n\""
   ]
  },
  {
   "cell_type": "markdown",
   "metadata": {},
   "source": [
    "notice that the `_str_` method uses f-strings that implicitly make calls on the __str__ methods of the children of a `Tagged` node. Thus, producing the text for a DOM tree is recursive.\n",
    "\n",
    "Plain text nodes, which will always be leaves of the DOM, will be simple: "
   ]
  },
  {
   "cell_type": "code",
   "execution_count": 26,
   "metadata": {},
   "outputs": [],
   "source": [
    "class Plain(DOMNode):\n",
    "    \"\"\"Plain text content is essentially just a string\"\"\"\n",
    "\n",
    "    def __init__(self, text: str):\n",
    "        self.text = text\n",
    "\n",
    "    def append(self, text: str):\n",
    "        self.text += text\n",
    "\n",
    "    def __str__(self):\n",
    "        return self.text"
   ]
  },
  {
   "cell_type": "markdown",
   "metadata": {},
   "source": [
    "Where we have a recursive tree traversal, leaf node classes usually handle a base case. For creating a string representation, the __str__ methods implement a recursive walk over the tree, and we can see that the simple __str__ method of Plain is a base case.\n",
    "\n",
    "Now we can build a DOM tree with calls to the constructors of Tagged and Plain:"
   ]
  },
  {
   "cell_type": "code",
   "execution_count": 27,
   "metadata": {},
   "outputs": [],
   "source": [
    "page = Tagged(\"html\",\n",
    "              [Tagged(\"head\", [Tagged(\"title\", [Plain(\"My Tremendous Novel\")])]),\n",
    "               Tagged(\"body\", [Tagged(\"h1\", [Plain(\"A Tail of Two Mice\")]),\n",
    "                               Tagged(\"h2\", [Plain(\"By Little Charley Dickie\")]),\n",
    "                               Tagged(\"p\", [Plain(\"It was the worst of cats.\"),\n",
    "                                            Plain(\"Like, really bad.  Unbelievably bad.\")]),\n",
    "                               Tagged(\"h3\", [Plain(\"Copyright 2020 by L.C.D.\")])\n",
    "                               ])  # End of body\n",
    "                ]) # End of document"
   ]
  },
  {
   "cell_type": "markdown",
   "metadata": {},
   "source": [
    "If we print page, its __str__ method will be called, and the recursive __str__ calls will produce the following output:"
   ]
  },
  {
   "cell_type": "code",
   "execution_count": 28,
   "metadata": {
    "vscode": {
     "languageId": "html"
    }
   },
   "outputs": [
    {
     "ename": "SyntaxError",
     "evalue": "invalid syntax (522238087.py, line 1)",
     "output_type": "error",
     "traceback": [
      "\u001b[1;36m  Cell \u001b[1;32mIn[28], line 1\u001b[1;36m\u001b[0m\n\u001b[1;33m    <html> <head> <title> My Tremendous Novel </title>\u001b[0m\n\u001b[1;37m    ^\u001b[0m\n\u001b[1;31mSyntaxError\u001b[0m\u001b[1;31m:\u001b[0m invalid syntax\n"
     ]
    }
   ],
   "source": [
    " <html> <head> <title> My Tremendous Novel </title>\n",
    " </head>\n",
    " <body> <h1> A Tail of Two Mice </h1>\n",
    " <h2> By Little Charley Dickie </h2>\n",
    " <p> It was the worst of cats. Like, really bad.  Unbelievably bad </p>\n",
    " <h3> Copyright 2020 by L.C.D. </h3>\n",
    " </body>\n",
    " </html>"
   ]
  },
  {
   "cell_type": "markdown",
   "metadata": {},
   "source": [
    "# Summary:\n",
    "\n",
    "The basic logic of recursion is the same for OOP as for recursive functions that do not involve classes and objects. Just as before, we must identify one or more base cases and one or more recursive cases. The base cases are the simplest cases that can be solved without recursion. The recursive cases are the cases that are solved by making a recursive call to the same method.\n",
    "\n",
    "The key difference is that with classes and objects, the recursive structure of the algorithms is often the same as the recursive sturcture of the objects. \n",
    "\n",
    "Often, we will have the base case in one subclass and the recursive case in another subclass. Instead of writing an `if` statement to control which case applies, we just let each class take care of the part of the logic that belongs to it. Whena  leaf node and an internal node both have a method m, usually the method m in the leaf node class will handle only the base case, and the method m in the internal node class will handle only the recursive case."
   ]
  }
 ],
 "metadata": {
  "kernelspec": {
   "display_name": "Python 3",
   "language": "python",
   "name": "python3"
  },
  "language_info": {
   "codemirror_mode": {
    "name": "ipython",
    "version": 3
   },
   "file_extension": ".py",
   "mimetype": "text/x-python",
   "name": "python",
   "nbconvert_exporter": "python",
   "pygments_lexer": "ipython3",
   "version": "3.11.3"
  },
  "orig_nbformat": 4
 },
 "nbformat": 4,
 "nbformat_minor": 2
}
