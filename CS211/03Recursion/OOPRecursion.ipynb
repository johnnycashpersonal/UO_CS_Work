{
 "cells": [
  {
   "cell_type": "markdown",
   "metadata": {},
   "source": [
    "# Recursion\n",
    "\n",
    "Recall - A recursive function is divided into oneor  more base cases and one or more recursive or inductive cases. Together, these have a very standard structure. In pseudocode, it looks like:"
   ]
  },
  {
   "cell_type": "code",
   "execution_count": null,
   "metadata": {},
   "outputs": [],
   "source": [
    "def recursive_function(value):\n",
    "    \"\"\"Always check base cases first\"\"\"\n",
    "    if base case applies:\n",
    "        do the base case and return\n",
    "    elif another base case applies:\n",
    "        do the base case and return\n",
    "    else:\n",
    "        \"\"\"Recursive case(s) follow\"\"\"\n",
    "        break value into pieces p1, p2, ...\n",
    "        result1 = recursive_function(p1)\n",
    "        result2 = recursive_function(p2)\n",
    "        ...\n",
    "        return combine(result1, result2, ...)"
   ]
  },
  {
   "cell_type": "markdown",
   "metadata": {},
   "source": [
    "For example, the classic recursive factorial function can be written as a method in a class:"
   ]
  },
  {
   "cell_type": "code",
   "execution_count": 1,
   "metadata": {},
   "outputs": [],
   "source": [
    "def classic_factorial(value:int) -> int:\n",
    "    \"\"\"We always check base cases first\"\"\"\n",
    "    if value < 2:\n",
    "        return 1\n",
    "    else:\n",
    "        \"\"\"Recursive cases follow\"\"\"\n",
    "        p1 = value - 1\n",
    "        r1 = classic_factorial(p1)\n",
    "        return value * r1"
   ]
  },
  {
   "cell_type": "markdown",
   "metadata": {},
   "source": [
    "Which could typically simplify to:"
   ]
  },
  {
   "cell_type": "code",
   "execution_count": 2,
   "metadata": {},
   "outputs": [],
   "source": [
    "def fact(value:int) -> int:\n",
    "    if value < 2:\n",
    "        return 1\n",
    "    return value * fact(value - 1)"
   ]
  },
  {
   "cell_type": "markdown",
   "metadata": {},
   "source": [
    "we can see the same basic structure in a binary search. Suppose we have a sorted table of (key, value) pairs that looks like this:"
   ]
  },
  {
   "cell_type": "code",
   "execution_count": null,
   "metadata": {},
   "outputs": [],
   "source": [
    "table = [(1, \"alpha\"), (3, \"beta\"), (4, \"gamma\"), (9, \"delta\"), (12, \"epsilon\")]"
   ]
  },
  {
   "cell_type": "markdown",
   "metadata": {},
   "source": [
    "The table is sorted by key. We can search it like this:"
   ]
  },
  {
   "cell_type": "code",
   "execution_count": null,
   "metadata": {},
   "outputs": [],
   "source": [
    "def bin_search(key: int, table: list[tuple[int, str]]) -> [str]:\n",
    "    return bin_search_range(key, table, 0, len(table) - 1)\n",
    "\n",
    "def bin_search_range(key: int, table: list[tuple[int, str]], low: int, high: int) -> [str]:\n",
    "    \"\"\"Recursive binary search in range low..high inclusive.\"\"\"\n",
    "\n",
    "    \"\"\"Base case 1: key not in table\"\"\"\n",
    "    if low > high:\n",
    "        return \"No such value\"\n",
    "    \n",
    "    mid = (high + low) // 2\n",
    "    entry_key, entry_value = table[mid]\n",
    "\n",
    "    \"\"\"base case 2: Key found at midpoint in table\"\"\"\n",
    "    if entry_key == key:\n",
    "        return entry_value\n",
    "    \n",
    "    if key < entry_key:\n",
    "        \"\"\"Revursive case 1: Key must be before midpoint, or absent\"\"\"\n",
    "        return bin_search_range(key, table, low, mid - 1)\n",
    "    \n",
    "    else:\n",
    "        \"\"\"Recursive case 2: Key must be after midpoint, or absent\"\"\"\n",
    "        return bin_search_range(key, table, mid + 1, high)"
   ]
  },
  {
   "cell_type": "markdown",
   "metadata": {},
   "source": [
    "# Recursive Data Structures:\n",
    "\n",
    "A data structure can also have a recursive structure: Tuples can contain tuples, lists can contain lists, and so on. Instead of a simple list, we can make the table have four elements:\n",
    "\n",
    "[key], [value], [smaller_key], [larger_keys]\n",
    "\n",
    "where smaller keys and larger keys are themselves tables with the same form, lists within lists,s o that we get a tree-like structure. This is called a binary search tree, because each node has two branches, one for smaller keys and one for larger keys.\n",
    "\n",
    "In python, this table could be represented as:"
   ]
  },
  {
   "cell_type": "code",
   "execution_count": 3,
   "metadata": {},
   "outputs": [],
   "source": [
    "alpha_tree: [4, \"gamma\",\n",
    "             [3, \"beta\",\n",
    "              [1, \"alpha\", [],[]],\n",
    "              []],\n",
    "            [12, \"epsilon\",\n",
    "             [9, \"delta\", [], []],\n",
    "             [15, \"zeta\", [], []]]\n",
    "           ]"
   ]
  },
  {
   "attachments": {
    "image.png": {
     "image/png": "[encoded data removed]"
    }
   },
   "cell_type": "markdown",
   "metadata": {},
   "source": [
    "typically,wev  isualize this structure not by drawing list cells within list cells,b ut by drawing \"nested in\" relation as lines. We call such a structure a tree, with the root of the tree at the top. \n",
    "\n",
    "- Each entry of the tree is called a node. \n",
    "- The top node is called the root.\n",
    "- The nodes at the bottom of the tree are called leaves.\n",
    "- The nodes in between are called internal nodes, and each of those + all the leaf nodes have a parent node.\n",
    "\n",
    "Here, key 4 is at the root, Keys 1, 9, and 15 are in leaves,and  4, 3, and 12 are internal nodes. \n",
    "\n",
    "![image.png](attachment:image.png)\n",
    "\n",
    "we can now rewrite our binary search as a search in the nested list structure, or tree:"
   ]
  },
  {
   "cell_type": "code",
   "execution_count": null,
   "metadata": {},
   "outputs": [],
   "source": [
    "def nested_list_search(key: int, table: list) -> str:\n",
    "    \"\"\"Table is [key, value, smaller keys, larger keys]\"\"\"\n",
    "    log.debug(f\"search for {key} in {table}\")\n",
    "    \"\"\"Base case one: there are no keys\"\"\"\n",
    "    if table == []:\n",
    "        return \"no such value\"\n",
    "    \n",
    "    entry_key, entry_value, smaller, larger = table\n",
    "    \"\"\"Base case two: key is found\"\"\"\n",
    "    if key == entry_key:\n",
    "        return entry_value\n",
    "    \n",
    "    if key < entry_key:\n",
    "        \"\"\"Recursive case one: Must be in the smaller keys\"\"\"\n",
    "        return nested_list_search(key, smaller)\n",
    "    else:\n",
    "        \"\"\"Recursive case 2: must be  in the larger keys\"\"\"\n",
    "        return nested_list_search(key, larger)"
   ]
  },
  {
   "cell_type": "markdown",
   "metadata": {},
   "source": [
    "notice - this is almost the same logica s our binary search in a list. The differences are now the data is shaped like an algorithm. When we searched a sorted list, we divided the list into a middle element, a sublist of smaller elements, and a sublist of larger elements. The nested list has already been divided up into a middle element (Which appears in the first key and value), a sublist of smaller elements, and a sublist of larger elements. Instead of calculating a midpoint, our `nested_search_list` just follows the data structure."
   ]
  },
  {
   "cell_type": "markdown",
   "metadata": {},
   "source": [
    "# Hierarchical Structures as Classes"
   ]
  },
  {
   "cell_type": "markdown",
   "metadata": {},
   "source": [
    "We can implement the same logical structure using classes and objects! Note that when we represented the tree using nested lists, we used empty lists to to represent emptyse ts of entries with larger or smaller keys. Using classes, we can instead create a distinct subclass for an empty table.\n",
    "\n",
    "We'll create an abstract base class for the tree structure, with a concrete subclass for a non-empty node, and a concrete subclass for an empty node."
   ]
  },
  {
   "cell_type": "code",
   "execution_count": null,
   "metadata": {},
   "outputs": [],
   "source": [
    "class GreekSearchTree:\n",
    "    \"\"\"An abstract base class for the table of Greek Letters\"\"\"\n",
    "    def __init__(self):\n",
    "        raise NotImplementedError(\"Nope, can't do that.\")\n",
    "\n",
    "class Node(GreekSearchTree):\n",
    "    def __init__(self, key: int, value: str, smaller: GreekSearchTree, larger: GreekSearchTree):\n",
    "        self.key = key\n",
    "        self.value = value\n",
    "        self.smaller = smaller  \n",
    "        self.larger = larger \n",
    "\n",
    "class Empty(GreekSearchTree):\n",
    "    def __init__(self):\n",
    "        pass"
   ]
  },
  {
   "cell_type": "markdown",
   "metadata": {},
   "source": [
    "with this, we can build up the tree structure:"
   ]
  },
  {
   "cell_type": "code",
   "execution_count": null,
   "metadata": {},
   "outputs": [],
   "source": [
    "# the leaves\n",
    "empty = Empty() # the empty tree - we only need one of these.\n",
    "alpha = Node(1, \"alpha\", empty, empty)\n",
    "delta = Node(9, \"delta\", empty, empty)\n",
    "zeta = Node(15, \"zeta\", empty, empty)\n",
    "\n",
    "#the internal nodes\n",
    "beta = Node(3, \"beta\", alpha, empty)\n",
    "epsilon = Node(12, \"epsilon\", delta, zeta)\n",
    "gamma = Node(4, \"gamma\", beta, epsilon)\n",
    "\n",
    "# the root (4, gamma)\n",
    "tree = gamma"
   ]
  },
  {
   "cell_type": "markdown",
   "metadata": {},
   "source": [
    "let's implement a search method - in the abstract base class, we will give a method definition with the header for the search method."
   ]
  },
  {
   "cell_type": "markdown",
   "metadata": {},
   "source": []
  }
 ],
 "metadata": {
  "kernelspec": {
   "display_name": "Python 3",
   "language": "python",
   "name": "python3"
  },
  "language_info": {
   "codemirror_mode": {
    "name": "ipython",
    "version": 3
   },
   "file_extension": ".py",
   "mimetype": "text/x-python",
   "name": "python",
   "nbconvert_exporter": "python",
   "pygments_lexer": "ipython3",
   "version": "3.11.3"
  },
  "orig_nbformat": 4
 },
 "nbformat": 4,
 "nbformat_minor": 2
}
