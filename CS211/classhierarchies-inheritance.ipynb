{
 "cells": [
  {
   "cell_type": "markdown",
   "metadata": {},
   "source": [
    "# Subclasses\n",
    "\n",
    "Sometimes we need a specialized version of a class, or multiple variations on a class. Rather than modifying the existing class, we can create a new class that inherits from the existing class. The new class is called a subclass, and the existing class is called the superclass.\n",
    "\n",
    "Suppose we wanted a class Square that is like a rectangle but can be created from a single point and size. We can specify that a `square` is a kind of `rect`:"
   ]
  },
  {
   "cell_type": "code",
   "execution_count": 1,
   "metadata": {},
   "outputs": [],
   "source": [
    "# Classes Point and Rect are repeated \n",
    "# from the previous chapter so we can\n",
    "# build on them.  Point has a method \n",
    "# \"dist\" that we use for area of triangles. \n",
    "\n",
    "from numbers import Number\n",
    "from math import sqrt\n",
    "\n",
    "class Point:\n",
    "    \"\"\"An (x,y) coordinate pair\"\"\"\n",
    "    def __init__(self, x: Number, y: Number):\n",
    "        self.x = x\n",
    "        self.y = y\n",
    "\n",
    "    def __add__(self, d: \"Point\") -> \"Point\":\n",
    "        \"\"\"Point(x, y) + Point(\"\"\"\n",
    "        x = self.x + d.x\n",
    "        y = self.y + d.y\n",
    "        return Point(x,y)\n",
    "        \n",
    "    def move_to(self, new_x, new_y):\n",
    "        \"\"\"Change the coordinates of this Point\"\"\"\n",
    "        self.x = new_x\n",
    "        self.y = new_y\n",
    "        \n",
    "    def dist(self, other: \"Point\") -> Number: \n",
    "        \"\"\"Euclidean distance\"\"\"\n",
    "        dx = self.x - other.x\n",
    "        dy = self.y - other.y\n",
    "        return sqrt(dx*dx + dy*dy)       \n",
    "        \n",
    "    def __str__(self) -> str:\n",
    "        \"\"\"Looks like (x, y)\"\"\"\n",
    "        return f\"({self.x}, {self.y})\"\n",
    "      \n",
    "    def __repr__(self) -> str:\n",
    "        \"\"\"Looks like Point(x, y)\"\"\"\n",
    "        return f\"Point({self.x}, {self.y})\"\n",
    "\n",
    "\n",
    "class Rect:\n",
    "    \"\"\"Rectangle from lower left corner to upper right.\"\"\"\n",
    "    def __init__(self, xy_min: Point, xy_max: Point):\n",
    "        self.min_pt = xy_min\n",
    "        self.max_pt = xy_max\n",
    "    \n",
    "    def area(self) -> Number:\n",
    "        \"\"\"Area is height * width\"\"\"\n",
    "        height = self.max_pt.x - self.min_pt.x\n",
    "        width = self.max_pt.y - self.min_pt.y\n",
    "        return height * width\n",
    "\n",
    "    def translate(self, delta: Point) -> \"Rect\":\n",
    "        \"\"\"New rectangle offset from this one by delta as movement vector\"\"\"\n",
    "        return Rect(self.min_pt + delta, self.max_pt + delta)\n",
    "\n",
    "    def __repr__(self) -> str:\n",
    "        return f\"Rect({repr(self.min_pt)}, {repr(self.max_pt)}\"\n",
    "\n",
    "    def __str__(self) -> str:\n",
    "        return f\"Rect({str(self.min_pt)}, {str(self.max_pt)})\""
   ]
  },
  {
   "cell_type": "code",
   "execution_count": 2,
   "metadata": {},
   "outputs": [],
   "source": [
    "class Square(Rect): # Square inherits from Rect\n",
    "    \"\"\"A square is a rectangle with equal sides\"\"\"\n",
    "\n",
    "    def __init__(self, anchor:Point, size):\n",
    "        self.min_pt = anchor\n",
    "        self.max_pt = anchor + Point(size, size)\n",
    "        self.size = size"
   ]
  },
  {
   "cell_type": "markdown",
   "metadata": {},
   "source": [
    "Square objects have the min_pt and max_pt instance variables of Rect, plus a new instance variable size.\n",
    "All the methods of Rect are also available for Square, including the magic methods like `__str__`."
   ]
  },
  {
   "cell_type": "code",
   "execution_count": 3,
   "metadata": {},
   "outputs": [
    {
     "name": "stdout",
     "output_type": "stream",
     "text": [
      "Rect((3, 5), (8, 10))\n"
     ]
    }
   ],
   "source": [
    "p1 = Point(3, 5)\n",
    "sq = Square(p1, 5)\n",
    "print(sq)"
   ]
  },
  {
   "cell_type": "markdown",
   "metadata": {},
   "source": [
    "# Overriding\n",
    "\n",
    "okay, but maybe we don't want to use the same `__str__` method for Square as we do for Rect. We can override the `__str__` method in Square to provide a different implementation. \n",
    "\n",
    "In this case, we want sqr to have it's own `__str__` method."
   ]
  },
  {
   "cell_type": "code",
   "execution_count": 6,
   "metadata": {},
   "outputs": [],
   "source": [
    "class Square(Rect):\n",
    "    \"\"\"A Rectangle with equal length sides\"\"\"\n",
    "    \n",
    "    def __init__(self, anchor: Point, size: Number):\n",
    "        self.min_pt = anchor\n",
    "        self.max_pt = self.min_pt + Point(size, size)\n",
    "        self.size = size\n",
    "\n",
    "    def __str__(self) -> str:\n",
    "        return f\"Square({str(self.min_pt)}, {self.size})\""
   ]
  },
  {
   "cell_type": "markdown",
   "metadata": {},
   "source": [
    "The new __str__ method of Square overrides the __str__ method of the Rect.\n",
    "\n",
    "Now the same code as above:"
   ]
  },
  {
   "cell_type": "code",
   "execution_count": 7,
   "metadata": {},
   "outputs": [
    {
     "name": "stdout",
     "output_type": "stream",
     "text": [
      "Square((3, 5), 5)\n",
      "Rect((5, 7), (10, 12))\n"
     ]
    }
   ],
   "source": [
    "p1 = Point(3, 5)\n",
    "sq = Square(p1, 5)\n",
    "print(sq)\n",
    "s2 = sq.translate(Point(2,2))\n",
    "print(s2)"
   ]
  },
  {
   "cell_type": "markdown",
   "metadata": {},
   "source": [
    "The first print command uses the new __str__ method. The translate method is still inherited from Rect, and still returns a Rect object rather than a Square, so the second print command is printing that Rect object.\n",
    "\n",
    "We can also add new methods that are not present in Rect. For example, we might simply want to add a method that returns the length of a side:"
   ]
  },
  {
   "cell_type": "code",
   "execution_count": 9,
   "metadata": {},
   "outputs": [],
   "source": [
    "class Square(Rect):\n",
    "    \"\"\"A Rectangle with equal length sides\"\"\"\n",
    "    \n",
    "    def __init__(self, anchor: Point, size: Number):\n",
    "        self.min_pt = anchor\n",
    "        self.max_pt = self.min_pt + Point(size, size)\n",
    "        self.size = size\n",
    "\n",
    "    def __str__(self) -> str:\n",
    "        return f\"Square({str(self.min_pt)}, {self.size})\"\n",
    "    \n",
    "    def side(self ) -> Number:\n",
    "        return self.size"
   ]
  },
  {
   "cell_type": "markdown",
   "metadata": {},
   "source": [
    "A method that is defined only in the Square subclass can of course use instance variables that are likewise only in that subclass. Now we can write"
   ]
  },
  {
   "cell_type": "code",
   "execution_count": 11,
   "metadata": {},
   "outputs": [
    {
     "data": {
      "text/plain": [
       "2"
      ]
     },
     "execution_count": 11,
     "metadata": {},
     "output_type": "execute_result"
    }
   ],
   "source": [
    "sq = Square(Point(2,2), 2)\n",
    "sq.side()"
   ]
  },
  {
   "cell_type": "markdown",
   "metadata": {},
   "source": [
    "We get the expected result, 2. However, if we attempt to call side on a Rect object that is not a Square object, we will get an error message."
   ]
  },
  {
   "cell_type": "code",
   "execution_count": 12,
   "metadata": {},
   "outputs": [
    {
     "ename": "AttributeError",
     "evalue": "'Rect' object has no attribute 'side'",
     "output_type": "error",
     "traceback": [
      "\u001b[1;31m---------------------------------------------------------------------------\u001b[0m",
      "\u001b[1;31mAttributeError\u001b[0m                            Traceback (most recent call last)",
      "Cell \u001b[1;32mIn[12], line 2\u001b[0m\n\u001b[0;32m      1\u001b[0m r \u001b[39m=\u001b[39m Rect(Point(\u001b[39m2\u001b[39m,\u001b[39m2\u001b[39m), Point(\u001b[39m4\u001b[39m,\u001b[39m4\u001b[39m))\n\u001b[1;32m----> 2\u001b[0m r\u001b[39m.\u001b[39;49mside()\n",
      "\u001b[1;31mAttributeError\u001b[0m: 'Rect' object has no attribute 'side'"
     ]
    }
   ],
   "source": [
    "# r = Rect(Point(2,2), Point(4,4))\n",
    "# r.side()"
   ]
  },
  {
   "cell_type": "markdown",
   "metadata": {},
   "source": [
    "The Python debugger refers to both instance variables and methods as attributes. In this case it looked for the class of r and found it was a Rect, and it looked in class Rect for method side and did not find it.\n",
    "\n",
    "The inherited translate method still returns a Rect. It seems more reasonable for translation of a Square to give us a Square, so we can again override the inherited method with a more specialized version:"
   ]
  },
  {
   "cell_type": "code",
   "execution_count": 13,
   "metadata": {},
   "outputs": [],
   "source": [
    "class Square(Rect):\n",
    "    \"\"\"A Rectangle with equal length sides\"\"\"\n",
    "    \n",
    "    def __init__(self, anchor: Point, size: Number):\n",
    "        self.min_pt = anchor\n",
    "        self.max_pt = self.min_pt + Point(size, size)\n",
    "        self.size = size\n",
    "\n",
    "    def __str__(self) -> str:\n",
    "        return f\"Square({str(self.min_pt)}, {self.size})\"\n",
    "    \n",
    "    def side(self ) -> Number:\n",
    "        return self.size\n",
    "    \n",
    "    def translate(self, delta: Point) -> \"Square\":\n",
    "        return Square(self.min_pt + delta, self.size)"
   ]
  },
  {
   "cell_type": "markdown",
   "metadata": {},
   "source": [
    "Now translate produces a Square object, with the printed representation we want."
   ]
  },
  {
   "cell_type": "code",
   "execution_count": 14,
   "metadata": {},
   "outputs": [
    {
     "name": "stdout",
     "output_type": "stream",
     "text": [
      "Square((3, 5), 5)\n",
      "Square((5, 7), 5)\n"
     ]
    }
   ],
   "source": [
    "p1 = Point(3, 5)\n",
    "sq = Square(p1, 5)\n",
    "print(sq)\n",
    "s2 = sq.translate(Point(2,2))\n",
    "print(s2)"
   ]
  },
  {
   "cell_type": "code",
   "execution_count": null,
   "metadata": {},
   "outputs": [],
   "source": [
    "# Inheritance - "
   ]
  },
  {
   "cell_type": "markdown",
   "metadata": {},
   "source": [
    "# Inheritance:\n",
    "\n",
    "creating a new class from the old class, and adding new methods and/or overriding existing methods.\n",
    "\n",
    "Parent, Base, or Super Class and Child, Derived, or Sub Class\n",
    "\n",
    "Child classes contain additional attributes and methods that the parent class does not contain. However, the child class can still access all of the attributes and methods of the parent class.\n",
    "\n",
    "Inheritance in humans - Inherit attributes and methods from the parent class\n",
    "\n",
    "## Inheritance Types in Python: \n",
    "\n",
    "- Single Inheritance: A class inherits from a single parent class\n",
    "- Multiple Inheritance: A class inherits from multiple parent classes\n",
    "- Multilevel Inheritance: A class inherits from a child class\n",
    "- Hierarchical Inheritance: Multiple child classes inherit from a single parent class."
   ]
  },
  {
   "cell_type": "markdown",
   "metadata": {},
   "source": [
    "# Types of Inheritence:\n",
    "\n",
    "## Single Inheritance:\n",
    "    Single inheritance refers to a scenario where a subclass inherits from a single superclass. In other words, a child class can have only one direct parent. This is the simplest and most commonly used type of inheritance in many programming languages like Java and C#. Here's a simple example:\n",
    "\n",
    "```python\n",
    "class Animal:\n",
    "    def make_sound(self):\n",
    "        pass\n",
    "\n",
    "class Dog(Animal):\n",
    "    def make_sound(self):\n",
    "        return \"Woof!\"\n",
    "\n",
    "class Cat(Animal):\n",
    "    def make_sound(self):\n",
    "        return \"Meow!\"\n",
    "```   \n",
    "\n",
    "## Multiple Inheritance:\n",
    "\n",
    "Multiple inheritance allows a class to inherit from multiple superclasses. The child class will have access to the properties and behaviors of all its parent classes. While this provides great flexibility, it can also lead to ambiguity and potential conflicts when two or more parent classes define methods with the same name. Python is an example of a programming language that supports multiple inheritance. Here's an illustration:\n",
    "\n",
    "\n",
    "```python\n",
    "class A:\n",
    "    def method_from_A(self):\n",
    "        pass\n",
    "\n",
    "class B:\n",
    "    def method_from_B(self):\n",
    "        pass\n",
    "\n",
    "class C(A, B):\n",
    "    def method_from_C(self):\n",
    "        pass\n",
    "```\n",
    "\n",
    "In this example, the class C inherits from both A and B, allowing it to access methods from both superclasses.\n",
    "\n",
    "## Multilevel Inheritance:\n",
    "\n",
    "Multilevel inheritance occurs when a class is derived from another class, and that derived class is used as the base class for another class. It creates a chain of inheritance relationships. It's essential to ensure that the chain doesn't become overly complex, as it might lead to maintenance difficulties. Here's an example:\n",
    "\n",
    "```python\n",
    "\n",
    "class Vehicle:\n",
    "    def drive(self):\n",
    "        pass\n",
    "\n",
    "class Car(Vehicle):\n",
    "    def honk(self):\n",
    "        pass\n",
    "\n",
    "class ElectricCar(Car):\n",
    "    def charge(self):\n",
    "        pass\n",
    "```\n",
    "\n",
    "In this example, the class ElectricCar inherits from Car, which in turn inherits from Vehicle. This is a typical example of multilevel inheritance.\n",
    "\n",
    "### Hierarchical Inheritance:\n",
    "\n",
    "Hierarchical inheritance happens when multiple classes inherit from a single superclass. In other words, **there is one parent class**, and multiple child classes inherit from it. Each child class can add its own specialized functionalities while sharing common features from the parent class. Here's an example:\n",
    "\n",
    "```python\n",
    "\n",
    "class Shape:\n",
    "    def draw(self):\n",
    "        pass\n",
    "\n",
    "class Circle(Shape):\n",
    "    def draw(self):\n",
    "        # Code to draw a circle\n",
    "        pass\n",
    "\n",
    "class Square(Shape):\n",
    "    def draw(self):\n",
    "        # Code to draw a square\n",
    "        pass\n",
    "\n",
    "```\n",
    "\n",
    "### Hybrid Inheritance:\n",
    "\n",
    "Hybrid inheritance is a combination of multiple inheritance and hierarchical inheritance. It involves the inheritance of multiple classes and the formation of a hierarchical structure. Languages that support multiple inheritance can give rise to hybrid inheritance scenarios.\n",
    "\n",
    "Remember, inheritance should be used judiciously, and class relationships should be well thought out to maintain code clarity and avoid potential issues like the \"diamond problem\" in multiple inheritance. The diamond problem occurs when a class inherits from two classes that have a common ancestor, leading to ambiguity. Some languages provide mechanisms to handle such conflicts, like virtual inheritance in C++."
   ]
  },
  {
   "cell_type": "markdown",
   "metadata": {},
   "source": [
    "# The liskov substitution principle:\n",
    "\n",
    "Can we override methods any way we like? For example, could we have have written the following definition of translate for class Square?"
   ]
  },
  {
   "cell_type": "code",
   "execution_count": 15,
   "metadata": {},
   "outputs": [],
   "source": [
    "def translate(self, dx: Number, dy: Number) -> \"Square\":\n",
    "    delta = Point(dx, dy)\n",
    "    return Square(self.min_pt + delta, self.size)"
   ]
  },
  {
   "cell_type": "markdown",
   "metadata": {},
   "source": [
    "Python would allow this, but it is a very bad idea. In Python, as in many object-oriented languages, we expect a subclass to also act as a subtype.\n",
    "\n",
    "What does it mean for one class to be a subtype of another? The widely accepted answer is that a subtype may safely be used wherever its supertype could be used. For example, if Square is not only a subclass of `Rect`, but also a subtype of Rect, then any code that would behave correctly with a value v that is a `Rect` should also act correctly if the value of v is a Square. \n",
    "\n",
    "We could say “A Squares is a Rects”, and in fact some programmers call subtyping the is-a relation. This is also called the Liskov substitution principle, for Nancy Liskov of M.I.T. who proposed it.\n",
    "\n",
    "For a square to be usable everywhere a `Rect` is usable, each method overridden in Square must be compatible with the corresponding method in `Rect`."
   ]
  },
  {
   "attachments": {
    "image.png": {
     "image/png": "[encoded data removed]"
    }
   },
   "cell_type": "markdown",
   "metadata": {},
   "source": [
    "What does it mean for the translate of Square to be compatible with the translate of Rect? \n",
    "\n",
    "- of course, it should have the same number of arguements or parameters and return type.\n",
    "\n",
    "An argument in the overriding method is compatible if it accepts everything that the inherited method accepts, so it should be equal or a supertype of the argument type of the inherited method. The result type should be what we would expect from the inherited method, so it should be equal or a subtype of the return type of the inherited method.\n",
    "\n",
    "![image.png](attachment:image.png)"
   ]
  },
  {
   "cell_type": "markdown",
   "metadata": {},
   "source": [
    "# Liskov in Simple terms:\n",
    "\n",
    "objects of a superclass should be replaceable with objects of its subclasses without breaking the application. That requires the objects of your subclasses to behave in the same way as the objects of your superclass.\n",
    "\n",
    "Liskov is the L in SOLID, which is a mnemonic acronym for the first five principles of object-oriented design.\n",
    "\n",
    "**S - Single Responsibility Principle (SRP):**\n",
    "A class should have only one reason to change, which means it should have only one responsibility. In other words, a class should encapsulate one and only one aspect of functionality. This principle helps keep classes focused, easy to understand, and maintainable.\n",
    "\n",
    "**O - Open/Closed Principle (OCP):**\n",
    "Software entities (classes, modules, functions, etc.) should be open for extension but closed for modification. This means that you should be able to add new features or behaviors to a class without modifying its existing code. This is typically achieved through the use of inheritance, interfaces, and abstraction.\n",
    "\n",
    "**L - Liskov Substitution Principle (LSP):**\n",
    "Derived (child) classes must be substitutable for their base (parent) classes without affecting the correctness of the program. In other words, objects of a base class should be replaceable with objects of its derived classes without causing any unexpected behavior. This principle ensures that inheritance relationships are correctly designed.\n",
    "\n",
    "**I - Interface Segregation Principle (ISP):**\n",
    "Clients should not be forced to depend on interfaces they do not use. In other words, a class should not be required to implement methods it doesn't need. Instead of having a large, monolithic interface, it's better to have smaller, specific interfaces tailored to the needs of individual classes.\n",
    "\n",
    "**D - Dependency Inversion Principle (DIP):**\n",
    "High-level modules should not depend on low-level modules; both should depend on abstractions. Abstractions should not depend on details; details should depend on abstractions. This principle encourages the use of dependency injection and inversion of control to decouple classes and improve flexibility."
   ]
  },
  {
   "cell_type": "markdown",
   "metadata": {},
   "source": [
    "# Abstract Classes:\n",
    "\n",
    "So far we have used inheritance as a way to avoid repetitive code by reusing (inheriting) methods in subclasses. Considering the Liskov substitution principle and the way subclasses are treated as subtypes, you might wonder whether sometimes it might be useful to create a superclass and a set of subclasses even though there is little or nothing to inherit. Our purpose might be the subtype relation, knowing (and documenting) that any of the subtypes can be used where the supertype is expected. This is not only possible but common.\n",
    "\n",
    "We have a simple class `Rect` and a subclass `Square`, and although we overrode many of the `Rect` methods in `Square`, at least one method (area) is inherited. Suppose now we also want a class `Triangle`.\n",
    "\n",
    "A triangle is not defined by two corners, and its area is not computed in the same way as the area of a `Rect`. And yet we can write an area method, with a completely different implementation, that is called in the same way and has the same meaning. \n",
    "\n",
    "It is easy to imagine a loop that sums up the area of a mixed lists of triangles and rectangles. It is useful for a class `Triangle` and class Rect to be subclasses of a single superclass `Shape`, even though there may be nothing that Triangle and Rect can inherit.\n"
   ]
  }
 ],
 "metadata": {
  "kernelspec": {
   "display_name": "Python 3",
   "language": "python",
   "name": "python3"
  },
  "language_info": {
   "codemirror_mode": {
    "name": "ipython",
    "version": 3
   },
   "file_extension": ".py",
   "mimetype": "text/x-python",
   "name": "python",
   "nbconvert_exporter": "python",
   "pygments_lexer": "ipython3",
   "version": "3.11.3"
  },
  "orig_nbformat": 4
 },
 "nbformat": 4,
 "nbformat_minor": 2
}
