{
 "cells": [
  {
   "cell_type": "markdown",
   "metadata": {},
   "source": [
    "# Inheriting from Built-ins\n",
    "\n",
    "All the built-in types of Python, like str and dict and even int, are classes. Just as we were able to extend or inherit from the class Rect, it is occasionally useful to inherit from one of the built-in classes.\n",
    "\n",
    "Suppose we want to build a class to represent lists of shapes. One approach would be to wrap a list, i.e., keeping a list of Shape as an instance variable in the new class:"
   ]
  },
  {
   "cell_type": "code",
   "execution_count": 1,
   "metadata": {},
   "outputs": [],
   "source": [
    "class ShapeList:\n",
    "    \"\"\"A collection of Shapes.\"\"\"\n",
    "\n",
    "    def __init__(self):\n",
    "        self.elements = []\n",
    "\n",
    "    def area(self):\n",
    "        total = 0\n",
    "        for el in self.elements:\n",
    "            total += el.area()\n",
    "        return total\n",
    "\n",
    "    def append(self, item):\n",
    "        \"\"\"Delegate to elements\"\"\"\n",
    "        self.elements.append(item)\n",
    "\n",
    "    def __str__(self) -> str:\n",
    "        \"\"\"Delegate to elements\"\"\"\n",
    "        return str(self.elements)"
   ]
  },
  {
   "cell_type": "markdown",
   "metadata": {},
   "source": [
    "This is ok as far as it goes … it allows us to append Shape objects to the list, to print the list with the str function, and to get the total area of shapes in the list. But then perhaps we want to use the len function to see how many shapes are on the list, so we’ll need to write a method to delegate len. Next we might want to use the in operation to check whether a shape is in the list. If we want all the methods of list, we will end up with a rather large class definition just to delegate each method to the corresponding method of list.\n",
    "\n",
    "Wrapping is fine if we want just a few methods of list, especially if we specifically do not want some of the list methods to be available for ShapeList. But if we want all of them, it is simpler (and probably less error prone) to just inherit them from list:"
   ]
  },
  {
   "cell_type": "code",
   "execution_count": 3,
   "metadata": {},
   "outputs": [],
   "source": [
    "class ShapeList(list):\n",
    "    \"\"\"A collection of Shapes.\"\"\"\n",
    "\n",
    "    def area(self):\n",
    "        total = 0\n",
    "        for el in self:\n",
    "            total += el.area()\n",
    "        return total"
   ]
  },
  {
   "cell_type": "markdown",
   "metadata": {},
   "source": [
    "We only have to define the added method area; all the rest of the methods list can be inherited.\n",
    "Note especially that we were able to write for el in self, using the looping methods of the built-in list class. Now we can write:\n",
    "\n",
    "```python\n",
    "\n",
    "li = ShapeList()\n",
    "li.append(Rect(Point(3, 3), Point(5, 7)))  # 2x4 = 8\n",
    "li.append(Square(Point(2, 2), 2))           # 2x2 = 4\n",
    "li.append(Triangle(Point(0, 0), Point(0, 1), Point(2, 0)))  # Area 1\n",
    "print(f\"ShapeList {li}\")\n",
    "print(f\"Combined area is {li.area()}, expecting 13\")\n",
    "\n",
    "```\n",
    "\n",
    "This wouldn't load in a python cell, cause some of the classes are from an earlier part of lecture, sadly."
   ]
  },
  {
   "cell_type": "markdown",
   "metadata": {},
   "source": [
    "## Test your understanding\n",
    "\n",
    "We might choose to extend a built-in class like list or dict because\n",
    "- We want to change the way all lists work\n",
    "- We want a class with all the methods of the built-in class, plus one or more added methods\n",
    "- Instance variables can’t hold values from the built-in classes"
   ]
  }
 ],
 "metadata": {
  "kernelspec": {
   "display_name": "Python 3",
   "language": "python",
   "name": "python3"
  },
  "language_info": {
   "codemirror_mode": {
    "name": "ipython",
    "version": 3
   },
   "file_extension": ".py",
   "mimetype": "text/x-python",
   "name": "python",
   "nbconvert_exporter": "python",
   "pygments_lexer": "ipython3",
   "version": "3.11.3"
  },
  "orig_nbformat": 4
 },
 "nbformat": 4,
 "nbformat_minor": 2
}
