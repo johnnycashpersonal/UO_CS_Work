{
 "cells": [
  {
   "cell_type": "markdown",
   "metadata": {},
   "source": [
    "Half of this lecture is in a google colab notebook cause I'm a moron. Find it here: <https://colab.research.google.com/drive/153aLhRFqSwJ70xoTRJWHsi-9WFjkHfdQ#scrollTo=Myk8rHCi2T8D&uniqifier=5>"
   ]
  },
  {
   "cell_type": "markdown",
   "metadata": {},
   "source": [
    "# Combining Objects: Composition\n",
    "\n",
    "The instance variables defined in a class and stored in the objects of that class can themselves be objects. We can make lists of objects, tuples of objects, etc.\n",
    "\n",
    "Often we will want to create a new class with instance variables that are objects created from classes that we have previously created. For example, if we create a new class Rect to represent rectangles, we might want to use Point objects to represent two corners of the rectangle:"
   ]
  },
  {
   "cell_type": "code",
   "execution_count": 4,
   "metadata": {},
   "outputs": [],
   "source": [
    "class Point:\n",
    "    \"\"\"An (x,y) coordinate pair\"\"\"\n",
    "    def __init__(self, x, y):\n",
    "        self.x = x\n",
    "        self.y = y\n",
    "    \n",
    "    def move(self, d: \"Point\") -> \"Point\":\n",
    "        \"\"\"(x,y).move(dx,dy) = (x+dx, y+dy)\"\"\"\n",
    "        x = self.x + d.x\n",
    "        y = self.y + d.y\n",
    "        return Point(x,y)\n",
    "        \n",
    "    def move_to(self, new_x, new_y):\n",
    "        \"\"\"Change the coordinates of this Point\"\"\"\n",
    "        self.x = new_x\n",
    "        self.y = new_y\n",
    "        \n",
    "    def __add__(self, other: \"Point\"):\n",
    "        \"\"\"(x,y) + (dx, dy) = (x+dx, y+dy)\"\"\"\n",
    "        return Point(self.x + other.x, self.y + other.y)\n",
    "\n",
    "    def __str__(self) -> str:\n",
    "        \"\"\"Printed representation.\n",
    "        str(p) is an implicit call to p.__str__()\n",
    "        \"\"\"\n",
    "        return f\"({self.x}, {self.y})\"\n",
    "      \n",
    "    def __repr__(self) -> str:\n",
    "        \"\"\"Debugging representation.  This is what\n",
    "        we see if we type a point name at the console.\n",
    "        \"\"\"\n",
    "        return f\"Point({self.x}, {self.y})\""
   ]
  },
  {
   "cell_type": "code",
   "execution_count": 6,
   "metadata": {},
   "outputs": [
    {
     "name": "stdout",
     "output_type": "stream",
     "text": [
      "Rect((3, 5), (8, 7)) + (4, 5) -> Rect((7, 10), (12, 12))\n",
      "Area of Rect((3, 5), (8, 7)) is 10\n"
     ]
    }
   ],
   "source": [
    "class Rect:\n",
    "    \"\"\"A rectangle is represented by a pair of points\n",
    "    (x_min, y_min), (x_max, y_max) at opposite corners.\n",
    "    Whether (x_min, y_min) is lower left or upper left\n",
    "    depends on the coordinate system.\n",
    "    \"\"\"\n",
    "    def __init__(self, xy_min: Point, xy_max: Point):\n",
    "        self.min_pt = xy_min\n",
    "        self.max_pt = xy_max\n",
    "    \n",
    "    def area(self):\n",
    "        \"\"\"Area is height * width\"\"\"\n",
    "        height = self.max_pt.x - self.min_pt.x\n",
    "        width = self.max_pt.y - self.min_pt.y\n",
    "        return height * width\n",
    "\n",
    "    def translate(self, delta: Point) -> \"Rect\":\n",
    "        \"\"\"New rectangle offset from this one by delta as movement vector\"\"\"\n",
    "        return Rect(self.min_pt + delta, self.max_pt + delta)\n",
    "\n",
    "    def __repr__(self) -> str:\n",
    "        return f\"Rect({repr(self.min_pt)}, {repr(self.max_pt)}\"\n",
    "\n",
    "    def __str__(self) -> str:\n",
    "        return f\"Rect({self.min_pt}, {self.max_pt})\"\n",
    "\n",
    "p1 = Point(3,5)\n",
    "p2 = Point(8,7)\n",
    "r1 = Rect(p1, p2)\n",
    "\n",
    "mvmt = Point(4, 5)\n",
    "r2 = r1.translate(mvmt) # r2 is a new rectangle, not a copy of r1 - treate Point (4,5) as (dx, dy)\n",
    "\n",
    "print(f'{r1} + {mvmt} -> {r2}')\n",
    "print(f'Area of {r1} is {r1.area()}')"
   ]
  },
  {
   "cell_type": "markdown",
   "metadata": {},
   "source": [
    "Note that the height and width are local variables that exist only while method area is executing. min_pt and max_pt, on the other hand, are instance variables that are stored within the Rect object.\n",
    "\n",
    "Suppose we ran the above code in PythonTutor. (PythonTutor cannot import Number, but for the examples we could replace it with int.) What picture would it draw of r1? Would height and width in method area be included as instance variables? Why or why not?"
   ]
  },
  {
   "cell_type": "markdown",
   "metadata": {},
   "source": [
    "# Wrapping and Delegation\n",
    "Sometimes we want a class of objects that is almost like an existing class, but with a little extra information or a few new methods. One way to do this is to build a new class that wraps an existing class, often a built-in class like list or dict. (In the next chapter we will see another approach.)\n",
    "\n",
    "Suppose we wanted objects that provide some of the same functionality as list objects, and also some new functionality or some restrictions. For example, we might want a method area that returns the sum of the areas of all the Rect objects in the RectList:"
   ]
  },
  {
   "cell_type": "code",
   "execution_count": 10,
   "metadata": {},
   "outputs": [],
   "source": [
    "class RectList:\n",
    "    \"\"\"A collection of Rects.\"\"\"\n",
    "\n",
    "    def __init__(self):\n",
    "        self.elements = [ ]\n",
    "\n",
    "    def area(self):\n",
    "        total = 0\n",
    "        for el in self.elements:\n",
    "            total += el.area()\n",
    "        return total"
   ]
  },
  {
   "cell_type": "markdown",
   "metadata": {},
   "source": [
    "That seems reasonable, but how do we add Rect objects to the Rectlist?\n",
    "\n",
    "We do not want to do it this way:"
   ]
  },
  {
   "cell_type": "code",
   "execution_count": 11,
   "metadata": {},
   "outputs": [],
   "source": [
    "li = RectList()\n",
    "# DON'T DO THIS\n",
    "li.elements.append(Rect(Point(3,3), Point(5,7)))\n",
    "li.elements.append(Rect(Point(2,2), Point(3,3)))"
   ]
  },
  {
   "cell_type": "markdown",
   "metadata": {},
   "source": [
    "As a general rule, we should be cautious about accessing the instance variables of an object outside of methods of the object’s class, and we should especially avoid modifying instance variables anywhere except in methods. Code that “breaks the abstraction”, like the example above calling the append method of the elements instance variable, is difficult to read and maintain. \n",
    "\n",
    "So we want instead to give RectList it’s own append method, so that we can write"
   ]
  },
  {
   "cell_type": "code",
   "execution_count": 14,
   "metadata": {},
   "outputs": [],
   "source": [
    "class RectList:\n",
    "    \"\"\"A collection of Rects.\"\"\"\n",
    "\n",
    "    def __init__(self):\n",
    "        self.elements = [ ]\n",
    "        \n",
    "    def append(self, item: Rect):\n",
    "        \"\"\"Delegate to elements\"\"\"\n",
    "        self.elements.append(item)\n",
    "\n",
    "    def area(self):\n",
    "        total = 0\n",
    "        for el in self.elements:\n",
    "            total += el.area()\n",
    "        return total"
   ]
  },
  {
   "cell_type": "code",
   "execution_count": 15,
   "metadata": {},
   "outputs": [
    {
     "name": "stdout",
     "output_type": "stream",
     "text": [
      "Combined area is 9\n"
     ]
    }
   ],
   "source": [
    "li = RectList()\n",
    "li.append(Rect(Point(3,3), Point(5,7)))\n",
    "li.append(Rect(Point(2,2), Point(3,3)))\n",
    "print(f\"Combined area is {li.area()}\")"
   ]
  },
  {
   "cell_type": "markdown",
   "metadata": {},
   "source": [
    "We call this delegation because append method of RectList method\n",
    "just hands off the work to the append method of class list. When we write a wrapper class, we typically write several such trivial delegation methods.\n",
    "\n",
    "Wrapping and delegation work well when we want the wrapper class (like RectList in this example) to have a few of the same methods as the wrapped class (list). When we want the new collection class to have all or nearly all the methods of an existing collection, the **inheritance approach** introduced in the next chapter is more appropriate."
   ]
  },
  {
   "cell_type": "markdown",
   "metadata": {},
   "source": [
    "# DSA - What are Classes and Objects? From CodingDojo\n",
    "\n",
    "two  robots-  tom and jerry\n",
    "\n",
    "tom - red, 30lbs\n",
    "jerry - blue, 40lbs\n",
    "\n",
    "How do we represent these entities?\n",
    "\n",
    "Store two sets of information for each robot\n",
    "name, color, weight - 3 variables\n",
    "\n",
    "+ function introduceself()\n",
    "\n",
    "organizing properties and functions together creates an object.\n",
    "\n",
    "once yoy have an object, you can create multiple instances of it, and put it in a variable: say all the information for the tom object is in r1.\n",
    "\n",
    "Once you create the object for jerry, assigning his color, name, and weight, you can put it in a variable r2.\n",
    "\n",
    "functions in an object are called methods. Variables in in object are called attributes."
   ]
  },
  {
   "cell_type": "markdown",
   "metadata": {},
   "source": [
    "# So what the hell is a class?\n",
    "\n",
    "a class is basically a template from which you use to create objects.\n",
    "\n",
    "When you make an object,you'll want to know what attributes and methods it has. You can make a class for this.\n",
    "\n",
    "## Class\n",
    "\n",
    "-  Classes don't refer to any particular object-  they are just a template for creating objects.\n",
    "-  Classes are like blueprints for creating objects.\n",
    "\n",
    "- Classes do contain the methods and attributes that objects will have.\n",
    "\n",
    "- Classes are like factories that produce objects.\n",
    "\n",
    "- Classes have to have names - And the first letter of their name should be capitalized."
   ]
  },
  {
   "cell_type": "code",
   "execution_count": 16,
   "metadata": {},
   "outputs": [
    {
     "name": "stdout",
     "output_type": "stream",
     "text": [
      "Tom\n",
      "blue\n",
      "Hi, I'm Tom and I weigh 30 pounds and I'm red\n",
      "None\n"
     ]
    }
   ],
   "source": [
    "class Robot:\n",
    "    def __init__(self, name, weight, color):\n",
    "        self.name = name\n",
    "        self.weight = weight\n",
    "        self.color = color\n",
    "\n",
    "    def introduce(self):\n",
    "        print(f\"Hi, I'm {self.name} and I weigh {self.weight} pounds and I'm {self.color}\")\n",
    "    \n",
    "#create instances of the class - objects\n",
    "r1 = Robot(\"Tom\", 30, \"red\") #this is an object!\n",
    "r2 = Robot(\"Jerry\", 40, \"blue\") #this is an object!\n",
    "\n",
    "#Access attributes and methods of the objects\n",
    "print(r1.name)\n",
    "print(r2.color)\n",
    "print(r1.introduce())\n"
   ]
  },
  {
   "cell_type": "markdown",
   "metadata": {},
   "source": [
    "In the example above, we define the Robot class with an __init__ method (constructor) that takes three arguments: name, weight, and color. The self parameter represents the instance of the class being created. Inside the constructor, we initialize the instance variables name, weight, and color with the values passed as arguments.\n",
    "\n",
    "Additionally, we define a method called introduce within the class, which allows the robot to introduce itself with its attributes. The method uses the instance variables (attributes) name, weight, and color to create a formatted introduction.\n",
    "\n",
    "We then create two instances of the Robot class, robot1 and robot2, and access their attributes and methods using dot notation."
   ]
  },
  {
   "cell_type": "markdown",
   "metadata": {},
   "source": [
    "# What's a Constructor?\n",
    "\n",
    "A constructor is a special method that is used to initialize a newly created object and is called just after the memory is allocated for the object. It can be used to initialize the variables of the object to either default values or user-defined values.\n",
    "\n",
    "This is a constructor (in python):\n",
    "\n",
    "```python\n",
    "\n",
    "def __init__(self, name, weight, color):\n",
    "        self.name = name\n",
    "        self.weight = weight\n",
    "        self.color = color\n",
    "\n",
    "```"
   ]
  },
  {
   "cell_type": "markdown",
   "metadata": {},
   "source": [
    "# How do Multiple classes and Objects Interact?\n",
    "\n",
    "**Composition and Aggregation**\n",
    " - Composition is when one class contains another class as a part. The contained class cannot exist without the class that contains it. When an object of the outer class is created, an object of the inner class is also created within it. The outer class controls the inner class. For example, a car has an engine. Without an engine, a car cannot function. The engine cannot be used outside of the car. The car controls the engine. This is an example of composition.\n",
    "\n",
    " - Aggregation is similar but with a weaker relation: the contained class can exist without the class that contains it. For example, a car has a radio. The radio can exist outside of the car. The car does not control the radio. However, the radio is part of the car. This is an example of aggregation.\n",
    "\n",
    "**Inheritance**\n",
    "-  The process where one class (the subclass or derived class) inherits attributes and methods from another class (the superclass or base class). Inheritance is used to define a new class based on an existing class. The new class inherits all the attributes and methods of the existing class but can also define additional attributes and methods and override existing methods.\n",
    "\n",
    "-  This allows you to reuse existing code and to reduce the complexity of programs. Inheritance is also known as subclassing. You can create Heirarchies of classes, where a class inherits from another class, which in turn inherits from another class.\n",
    "\n",
    "- Lets you create heirarchies and \"Is-a Relationships\", where a \n",
    "\n",
    "**Method calls**\n",
    "\n",
    "- Objects of one class can call methods of other class. This is useful for making one class do some work and then pass the result to another class for further processing. Or make one class interact with another to perform specific tasks or share information.\n",
    "\n",
    "**Passing objects as arguments to functions**\n",
    "- Objects of one class can be passed as arguements to methods of another class, allowing them to collaborate and exchange data.\n",
    "\n",
    "**Accessing Attributes**\n",
    "- Objects of one class can access attributes of another class. This allows them to share data and read/modify values.\n",
    "\n",
    "**Event handling**\n",
    "- Objects can emit events or signals, and other objects can listen for these events and respond to them. This allows objects to communicate with each other and respond to changes in the system.\n",
    "\n",
    "# Here are two classes interacting using composition:"
   ]
  },
  {
   "cell_type": "code",
   "execution_count": 17,
   "metadata": {},
   "outputs": [
    {
     "name": "stdout",
     "output_type": "stream",
     "text": [
      "Toyota Corolla: Engine started.\n",
      "Toyota Corolla: Engine stopped.\n"
     ]
    }
   ],
   "source": [
    "class Engine:\n",
    "    def __init__(self, horsepower):\n",
    "        self.horsepower = horsepower\n",
    "\n",
    "    def start(self):\n",
    "        return \"Engine started.\"\n",
    "\n",
    "    def stop(self):\n",
    "        return \"Engine stopped.\"\n",
    "\n",
    "\n",
    "class Car:\n",
    "    def __init__(self, make, model, engine):\n",
    "        self.make = make\n",
    "        self.model = model\n",
    "        self.engine = engine\n",
    "\n",
    "    def start(self):\n",
    "        return f\"{self.make} {self.model}: {self.engine.start()}\"\n",
    "\n",
    "    def stop(self):\n",
    "        return f\"{self.make} {self.model}: {self.engine.stop()}\"\n",
    "\n",
    "\n",
    "# Create instances of Engine and Car classes\n",
    "engine = Engine(horsepower=200)\n",
    "car = Car(make=\"Toyota\", model=\"Corolla\", engine=engine)\n",
    "\n",
    "# Interact with objects\n",
    "print(car.start())  # Output: Toyota Corolla: Engine started.\n",
    "print(car.stop())   # Output: Toyota Corolla: Engine stopped.\n"
   ]
  },
  {
   "cell_type": "code",
   "execution_count": 13,
   "metadata": {},
   "outputs": [
    {
     "name": "stdout",
     "output_type": "stream",
     "text": [
      "John is sitting. John owns a robot.\n",
      "John is not sitting. John does not own a robot.\n",
      "John is smart.\n"
     ]
    }
   ],
   "source": [
    "import random\n",
    "\n",
    "class Person:\n",
    "    def __init__(self, name, is_sitting, robot_owned):\n",
    "        self.name = name\n",
    "        self.personality = \"nice\"\n",
    "        self.is_sitting = is_sitting\n",
    "        self.robot_owned = robot_owned\n",
    "\n",
    "    def __personality__(self):   \n",
    "        for i in range(0, 5):\n",
    "                i = random.randint(0, 4)\n",
    "                if i == 0:\n",
    "                    self.personality = \"nice\"\n",
    "                elif i == 1:\n",
    "                    self.personality = \"mean\"\n",
    "                elif i == 2:\n",
    "                    self.personality = \"funny\"\n",
    "                elif i == 3:\n",
    "                    self.personality = \"smart\"\n",
    "                elif i == 4:\n",
    "                    self.personality = \"dumb\"\n",
    "            \n",
    "        return f\"{self.name} is {self.personality}.\"\n",
    "\n",
    "\n",
    "    def __is_sitting__(self):\n",
    "        if self.is_sitting == True:\n",
    "            return f\"{self.name} is sitting.\"\n",
    "        \n",
    "        else:\n",
    "            return f\"{self.name} is not sitting.\"\n",
    "    \n",
    "    def __robot_owned__(self):\n",
    "        if self.robot_owned == True:\n",
    "            return f\"{self.name} owns a robot.\"\n",
    "        \n",
    "        else:\n",
    "            return f\"{self.name} does not own a robot.\"\n",
    "        \n",
    "john = Person(\"John\", True, True)\n",
    "\n",
    "print(f'{john.__is_sitting__()} {john.__robot_owned__()}')\n",
    "\n",
    "john.is_sitting = False\n",
    "john.robot_owned = False\n",
    "\n",
    "print(f'{john.__is_sitting__()} {john.__robot_owned__()}')\n",
    "print(john.__personality__())"
   ]
  },
  {
   "cell_type": "markdown",
   "metadata": {},
   "source": [
    "# Classes and Objects in Python Part Two\n",
    "\n",
    "## How multiple classes and objects interact with each other in python.\n",
    "\n"
   ]
  },
  {
   "cell_type": "code",
   "execution_count": 14,
   "metadata": {},
   "outputs": [],
   "source": [
    "class Robot:\n",
    "    def __init__(self, name, color, weight):\n",
    "        self.name = name\n",
    "        self.color = color\n",
    "        self.weight = weight\n",
    "    \n",
    "    def introduce_self(self):\n",
    "        print(f\"Hi, my name is {self.name}\")\n",
    "\n",
    "r1 = Robot(\"Tom\", \"red\", 30)\n",
    "r2 = Robot(\"Jerry\", \"blue\", 40)\n",
    "\n",
    "class Person:\n",
    "    def __init__(self, name, personality, is_sitting, robot_owned):\n",
    "        self.name = name\n",
    "        self.personality = personality\n",
    "        self.is_sitting = is_sitting\n",
    "        self.robot_owned = robot_owned\n",
    "\n",
    "    def sit_down(self):\n",
    "        self.is_sitting = True\n",
    "    \n",
    "    def stand_up(self):\n",
    "        self.is_sitting = False"
   ]
  },
  {
   "cell_type": "code",
   "execution_count": 15,
   "metadata": {},
   "outputs": [],
   "source": [
    "p1 = Person(\"Alice\", \"aggressive\", False)\n",
    "p2 = Person(\"Becky\", \"talkative\", True)"
   ]
  },
  {
   "cell_type": "code",
   "execution_count": 16,
   "metadata": {},
   "outputs": [],
   "source": [
    "# p1 owns r2\n",
    "p1.robot_owned = r2\n",
    "# p2 owns r1\n",
    "p2.robot_owned = r1"
   ]
  },
  {
   "cell_type": "code",
   "execution_count": 18,
   "metadata": {},
   "outputs": [
    {
     "name": "stdout",
     "output_type": "stream",
     "text": [
      "Hi, my name is Jerry\n",
      "Hi, my name is Tom\n"
     ]
    }
   ],
   "source": [
    "p1.robot_owned.introduce_self()\n",
    "p2.robot_owned.introduce_self()"
   ]
  },
  {
   "cell_type": "code",
   "execution_count": null,
   "metadata": {},
   "outputs": [],
   "source": []
  }
 ],
 "metadata": {
  "kernelspec": {
   "display_name": "Python 3",
   "language": "python",
   "name": "python3"
  },
  "language_info": {
   "codemirror_mode": {
    "name": "ipython",
    "version": 3
   },
   "file_extension": ".py",
   "mimetype": "text/x-python",
   "name": "python",
   "nbconvert_exporter": "python",
   "pygments_lexer": "ipython3",
   "version": "3.11.3"
  },
  "orig_nbformat": 4
 },
 "nbformat": 4,
 "nbformat_minor": 2
}
